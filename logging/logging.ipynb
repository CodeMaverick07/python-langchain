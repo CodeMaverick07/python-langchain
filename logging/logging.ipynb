{
 "cells": [
  {
   "cell_type": "code",
   "execution_count": 3,
   "id": "8ab20705",
   "metadata": {},
   "outputs": [],
   "source": [
    "import logging\n",
    "\n"
   ]
  },
  {
   "cell_type": "code",
   "execution_count": 2,
   "id": "c54e6490",
   "metadata": {},
   "outputs": [
    {
     "name": "stderr",
     "output_type": "stream",
     "text": [
      "DEBUG:root:This is a debug message\n",
      "INFO:root:This is an info message\n",
      "WARNING:root:This is a warning message\n",
      "ERROR:root:This is an error message\n",
      "CRITICAL:root:This is a critical message\n",
      "DEBUG:root:Debugging information\n"
     ]
    }
   ],
   "source": [
    "logging.debug(\"This is a debug message\")\n",
    "logging.info(\"This is an info message\")\n",
    "logging.warning(\"This is a warning message\")\n",
    "logging.error(\"This is an error message\")\n",
    "logging.critical(\"This is a critical message\")\n",
    "logging.debug(\"Debugging information\")"
   ]
  },
  {
   "cell_type": "code",
   "execution_count": 4,
   "id": "fdb8a9fc",
   "metadata": {},
   "outputs": [],
   "source": [
    "#configuring logging\n",
    "logging.basicConfig(\n",
    "    \n",
    "    filename='example.log',\n",
    "    filemode='w',\n",
    "    level=logging.DEBUG,\n",
    "    format='%(asctime)s - %(name)s - %(levelname)s - %(message)s',\n",
    ")\n",
    "logging.debug(\"This is a debug message\")\n",
    "logging.info(\"This is an info message\")\n",
    "logging.warning(\"This is a warning message\")\n",
    "logging.error(\"This is an error message\")\n",
    "logging.critical(\"This is a critical message\")\n",
    "logging.debug(\"Debugging information\")"
   ]
  },
  {
   "cell_type": "code",
   "execution_count": null,
   "id": "e3e15bed",
   "metadata": {},
   "outputs": [],
   "source": [
    "#two different loggers for different modules\n",
    "logger1 = logging.getLogger('module1')\n",
    "logger2 = logging.getLogger('module2')\n",
    "logger1.setLevel(logging.DEBUG)\n",
    "logger2.setLevel(logging.WARNING)\n",
    "logging.basicConfig(\n",
    "    filename='example.log',\n",
    "    filemode='w',\n",
    "    level=logging.DEBUG,\n",
    "    format='%(asctime)s - %(name)s - %(levelname)s - %(message)s',\n",
    "    \n",
    ")"
   ]
  }
 ],
 "metadata": {
  "kernelspec": {
   "display_name": "venv",
   "language": "python",
   "name": "python3"
  },
  "language_info": {
   "codemirror_mode": {
    "name": "ipython",
    "version": 3
   },
   "file_extension": ".py",
   "mimetype": "text/x-python",
   "name": "python",
   "nbconvert_exporter": "python",
   "pygments_lexer": "ipython3",
   "version": "3.13.2"
  }
 },
 "nbformat": 4,
 "nbformat_minor": 5
}
