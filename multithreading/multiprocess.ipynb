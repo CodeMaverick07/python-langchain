{
 "cells": [
  {
   "cell_type": "code",
   "execution_count": 8,
   "id": "1a997e3c",
   "metadata": {},
   "outputs": [
    {
     "name": "stdout",
     "output_type": "stream",
     "text": [
      "1\n",
      "a\n",
      "b\n",
      "c\n",
      "d\n",
      "e\n",
      "2\n",
      "3\n",
      "4\n",
      "5\n",
      "Execution time: 5.0229291915893555\n"
     ]
    }
   ],
   "source": [
    "import threading\n",
    "import time \n",
    "\n",
    "def print_numbers():\n",
    "    for i in range(1, 6):\n",
    "        print(i)\n",
    "        time.sleep(1)\n",
    "\n",
    "def print_letters():\n",
    "    for letter in 'abcde':\n",
    "        print(letter)\n",
    "\n",
    "        \n",
    "## create two threads\n",
    "t1 = threading.Thread(target=print_numbers)\n",
    "t2 = threading.Thread(target=print_letters)\n",
    "\n",
    "# start the threads    \n",
    "t = time.time()\n",
    "t1.start()\n",
    "t2.start()\n",
    "t1.join()\n",
    "t2.join()\n",
    "final_time = time.time() - t \n",
    "print(f\"Execution time: {final_time}\")"
   ]
  },
  {
   "cell_type": "code",
   "execution_count": null,
   "id": "4df71a4d",
   "metadata": {},
   "outputs": [],
   "source": [
    "import multiprocessing\n",
    " "
   ]
  }
 ],
 "metadata": {
  "kernelspec": {
   "display_name": "venv",
   "language": "python",
   "name": "python3"
  },
  "language_info": {
   "codemirror_mode": {
    "name": "ipython",
    "version": 3
   },
   "file_extension": ".py",
   "mimetype": "text/x-python",
   "name": "python",
   "nbconvert_exporter": "python",
   "pygments_lexer": "ipython3",
   "version": "3.13.2"
  }
 },
 "nbformat": 4,
 "nbformat_minor": 5
}
